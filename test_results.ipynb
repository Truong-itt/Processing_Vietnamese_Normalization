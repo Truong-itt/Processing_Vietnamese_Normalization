{
 "cells": [
  {
   "cell_type": "code",
   "execution_count": null,
   "metadata": {},
   "outputs": [],
   "source": [
    "!pip install underthesea\n",
    "!pip install textblob\n",
    "!pip install wordcloud\n",
    "!pip install transformers safetensors"
   ]
  },
  {
   "cell_type": "code",
   "execution_count": null,
   "metadata": {},
   "outputs": [],
   "source": [
    "from transformers import AutoTokenizer, AutoModelForSequenceClassification\n",
    "import torch\n",
    "\n",
    "# Đường dẫn đến mô hình đã lưu\n",
    "fine_tuned_model_path = \"/kaggle/working/fine_tuned_visobert\"\n",
    "\n",
    "# Tải tokenizer và mô hình\n",
    "tokenizer = AutoTokenizer.from_pretrained(fine_tuned_model_path)\n",
    "model = AutoModelForSequenceClassification.from_pretrained(fine_tuned_model_path)\n"
   ]
  },
  {
   "cell_type": "code",
   "execution_count": null,
   "metadata": {},
   "outputs": [
    {
     "name": "stdout",
     "output_type": "stream",
     "text": [
      "Văn bản: Sản phẩm rất tốt, tôi rất hài lòng. -> Nhãn dự đoán: POS\n",
      "Văn bản: Dịch vụ kém, tôi không thích. -> Nhãn dự đoán: NEG\n",
      "Văn bản: mình bị kich ứng không hợp sản phẩm sử dụng được ngay pas lai cho bạn nào cần nha -> Nhãn dự đoán: NEG\n"
     ]
    }
   ],
   "source": [
    "# Văn bản cần dự đoán\n",
    "texts = [\"Sản phẩm rất tốt, tôi rất hài lòng.\", \"Dịch vụ kém, tôi không thích.\", \"mình bị kich ứng không hợp sản phẩm sử dụng được ngay pas lai cho bạn nào cần nha\"]\n",
    "\n",
    "# Tokenize văn bản\n",
    "inputs = tokenizer(texts, truncation=True, padding=True, return_tensors=\"pt\", max_length=256)\n",
    "\n",
    "# Đưa dữ liệu vào mô hình\n",
    "model.eval()  # Chuyển sang chế độ đánh giá\n",
    "with torch.no_grad():\n",
    "    outputs = model(**inputs)\n",
    "\n",
    "# Lấy xác suất và nhãn dự đoán\n",
    "probs = torch.nn.functional.softmax(outputs.logits, dim=-1)\n",
    "predictions = torch.argmax(probs, dim=-1)\n",
    "\n",
    "# Chuyển đổi nhãn số về nhãn thực tế\n",
    "label_mapping = {0: \"NEG\", 1: \"POS\", 2: \"NEU\"}\n",
    "predicted_labels = [label_mapping[pred.item()] for pred in predictions]\n",
    "for text, label in zip(texts, predicted_labels):\n",
    "    print(f\"Văn bản: {text} -> Nhãn dự đoán: {label}\")"
   ]
  }
 ],
 "metadata": {
  "kernelspec": {
   "display_name": "Python 3",
   "language": "python",
   "name": "python3"
  },
  "language_info": {
   "codemirror_mode": {
    "name": "ipython",
    "version": 3
   },
   "file_extension": ".py",
   "mimetype": "text/x-python",
   "name": "python",
   "nbconvert_exporter": "python",
   "pygments_lexer": "ipython3",
   "version": "3.10.0"
  }
 },
 "nbformat": 4,
 "nbformat_minor": 2
}
